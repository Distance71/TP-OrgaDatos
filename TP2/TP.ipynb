{
 "cells": [
  {
   "cell_type": "code",
   "execution_count": 1,
   "metadata": {},
   "outputs": [
    {
     "name": "stdout",
     "output_type": "stream",
     "text": [
      "Python: 3.6.8 (default, Oct  7 2019, 12:59:55) \n",
      "[GCC 8.3.0]\n",
      "scipy: 1.3.1\n",
      "numpy: 1.17.2\n",
      "matplotlib: 3.1.1\n",
      "pandas: 0.25.1\n",
      "sklearn: 0.21.3\n"
     ]
    }
   ],
   "source": [
    "#Verify to have all installed\n",
    "import sys\n",
    "print('Python: {}'.format(sys.version))\n",
    "# scipy\n",
    "import scipy\n",
    "print('scipy: {}'.format(scipy.__version__))\n",
    "# numpy\n",
    "import numpy\n",
    "print('numpy: {}'.format(numpy.__version__))\n",
    "# matplotlib\n",
    "import matplotlib\n",
    "print('matplotlib: {}'.format(matplotlib.__version__))\n",
    "# pandas\n",
    "import pandas\n",
    "print('pandas: {}'.format(pandas.__version__))\n",
    "# scikit-learn\n",
    "import sklearn\n",
    "print('sklearn: {}'.format(sklearn.__version__))"
   ]
  },
  {
   "cell_type": "code",
   "execution_count": 2,
   "metadata": {},
   "outputs": [],
   "source": [
    "# Load libraries\n",
    "import pandas as pd\n",
    "import datetime\n",
    "from datetime import date,time\n",
    "import time\n",
    "import matplotlib.pyplot as plt\n",
    "\n",
    "#Modelos simples (no uso todo)\n",
    "from sklearn.impute import SimpleImputer\n",
    "from sklearn.preprocessing import StandardScaler\n",
    "from sklearn.model_selection import train_test_split\n",
    "from sklearn.dummy import DummyRegressor\n",
    "from sklearn.linear_model import LinearRegression\n",
    "from sklearn import linear_model\n",
    "#from sklearn.tree import DecisionTreeRegressor\n",
    "from sklearn.linear_model import LogisticRegression\n",
    "\n",
    "#Modelos de prueba real\n",
    "from sklearn.tree import DecisionTreeRegressor\n",
    "from sklearn.ensemble import RandomForestRegressor\n",
    "from sklearn.linear_model import Lasso\n",
    "from sklearn.linear_model import ElasticNet\n",
    "from sklearn.linear_model import Ridge\n",
    "\n",
    "#Otros modelos\n",
    "from sklearn import model_selection\n",
    "from sklearn.metrics import mean_squared_error\n",
    "from sklearn.preprocessing import PolynomialFeatures\n",
    "from sklearn import svm\n",
    "from sklearn.linear_model import SGDRegressor\n",
    "import xgboost as xgb\n",
    "from sklearn.preprocessing import LabelEncoder"
   ]
  },
  {
   "cell_type": "code",
   "execution_count": 3,
   "metadata": {},
   "outputs": [],
   "source": [
    "#Carga y filtrado inicial de los datos\n",
    "train = pd.read_csv('train.csv')\n",
    "test = pd.read_csv('test.csv')\n",
    "drop_cols = ['titulo', 'descripcion', 'direccion', 'idzona', 'lat', 'lng'] #-ciudad\n",
    "train = train.drop(drop_cols, axis=1)\n",
    "test = test.drop(drop_cols, axis=1)\n",
    "\n",
    "#drop del algoritmo\n",
    "test = test.drop(['fecha'], axis=1)\n",
    "x_train = train.drop(['precio', 'fecha'], axis=1)\n",
    "\n",
    "numeric_columns_with_nulls = list(set(x_train.columns[x_train.isnull().sum() > 0].tolist()) \\\n",
    "                                  - set(['tiposdepropiedad', 'ciudad', 'provincia']))\n",
    "numeric_columns_with_nulls = ['habitaciones',\n",
    " 'garages',\n",
    " 'banos',\n",
    " 'antiguedad',\n",
    " 'metrostotales',\n",
    " 'metroscubiertos']\n"
   ]
  },
  {
   "cell_type": "code",
   "execution_count": 4,
   "metadata": {},
   "outputs": [],
   "source": [
    "for c in numeric_columns_with_nulls:\n",
    "    imp = SimpleImputer()\n",
    "    x_train[c] = imp.fit_transform(x_train[[c]])\n",
    "    test[c] = imp.transform(test[[c]])"
   ]
  },
  {
   "cell_type": "code",
   "execution_count": 5,
   "metadata": {},
   "outputs": [],
   "source": [
    "#columns_with_values = x_train.describe().columns.delete(0)\n",
    "#for c in list(set(columns_with_values)):\n",
    "#    imp = StandardScaler()\n",
    "#    x_train[c] = imp.fit_transform(x_train[[c]])\n",
    "#    test[c] = imp.transform(test[[c]])"
   ]
  },
  {
   "cell_type": "code",
   "execution_count": 6,
   "metadata": {},
   "outputs": [],
   "source": [
    "#Definición de tipos\n",
    "x_train['id'] = train['id'].astype(int)\n",
    "x_train['tipodepropiedad'] = train['tipodepropiedad'].astype('object')\n",
    "x_train['ciudad'] = train['ciudad'].astype('object')\n",
    "x_train['provincia'] = train['provincia'].astype('object')\n",
    "x_train['habitaciones'] = train['habitaciones'].fillna(0.0).astype(int)\n",
    "x_train['garages'] = train['garages'].fillna(0.0).astype(int)\n",
    "x_train['banos'] = train['banos'].fillna(0.0).astype(int)\n",
    "#x_train['fecha'] = pd.to_datetime(train['fecha'], errors='coerce')\n",
    "x_train['gimnasio'] = train['gimnasio'].astype('bool')\n",
    "x_train['usosmultiples'] = train['usosmultiples'].astype('bool')\n",
    "x_train['piscina'] = train['piscina'].fillna(0.0).astype('bool')\n",
    "x_train['escuelascercanas'] = train['escuelascercanas'].astype('bool')\n",
    "x_train['centroscomercialescercanos'] = train['centroscomercialescercanos'].astype('bool')\n",
    "\n",
    "test['id'] = test['id'].astype(int)\n",
    "test['tipodepropiedad'] = test['tipodepropiedad'].astype('object')\n",
    "test['ciudad'] = test['ciudad'].astype('object')\n",
    "test['provincia'] = test['provincia'].astype('object')\n",
    "test['habitaciones'] = test['habitaciones'].fillna(0.0).astype(int)\n",
    "test['garages'] = test['garages'].fillna(0.0).astype(int)\n",
    "test['banos'] = test['banos'].fillna(0.0).astype(int)\n",
    "#test['fecha'] = pd.to_datetime(test['fecha'], errors='coerce')\n",
    "test['gimnasio'] = test['gimnasio'].fillna(0.0).astype('bool')\n",
    "test['usosmultiples'] = test['usosmultiples'].fillna(0.0).astype('bool')\n",
    "test['piscina'] = test['piscina'].fillna(0.0).astype('bool')\n",
    "test['escuelascercanas'] = test['escuelascercanas'].fillna(0.0).astype('bool')\n",
    "test['centroscomercialescercanos'] = test['centroscomercialescercanos'].fillna(0.0).astype('bool')"
   ]
  },
  {
   "cell_type": "code",
   "execution_count": 7,
   "metadata": {},
   "outputs": [],
   "source": [
    "#Analisis preeliminar sobre test\n",
    "#print('Se ofrecen ',len(train['tipodepropiedad'].unique()), 'tipos de propíedades:')\n",
    "#((test['banos'].value_counts()/60000)-(train['banos'].value_counts()/240000))*100\n",
    "#anuncios_fecha = test['antiguedad']\n",
    "#anuncios_fechaOT = train['antiguedad']\n",
    "#((anuncios_fecha.mean()/anuncios_fechaOT.mean())-1)*100\n",
    "#(((anuncios_fecha.value_counts()/60000)-(anuncios_fechaOT.value_counts()/240000))*100).apply(lambda x: x if x > 0 else -x).sum()"
   ]
  },
  {
   "cell_type": "code",
   "execution_count": 8,
   "metadata": {},
   "outputs": [],
   "source": [
    "#Analisis de test data\n",
    "#((60000-test.isnull().sum())/60000)*100\n",
    "#print(test['tipodepropiedad'].unique())\n",
    "#print(f\"Total tipos de propiedad: {test['id'].nunique()}\")\n",
    "#print(f\"Total tipos de propiedad: {test['tipodepropiedad'].nunique()}\")\n",
    "#print(f\"Total tipos de propiedad: {test['ciudad'].nunique()}\")\n",
    "#print(f\"Total tipos de propiedad: {test['provincia'].nunique()}\")\n",
    "#print(f\"Total tipos de propiedad: {test['antiguedad'].nunique()}\")\n",
    "#print(f\"Total tipos de propiedad: {test['habitaciones'].nunique()}\")\n",
    "#print(f\"Total tipos de propiedad: {test['garages'].nunique()}\")\n",
    "#print(f\"Total tipos de propiedad: {test['banos'].nunique()}\")\n",
    "#print(f\"Total tipos de propiedad: {test['metroscubiertos'].nunique()}\")\n",
    "#print(f\"Total tipos de propiedad: {test['metroscubiertos'].nunique()}\")\n",
    "#print(f\"Total tipos de gilads: {test['fecha'].nunique()}\")\n",
    "#print(f\"Total tipos de propiedad: {test['usosmultiples'].nunique()}\")\n",
    "#print(f\"Total tipos de propiedad: {test['piscina'].nunique()}\")\n",
    "#print(f\"Total tipos de propiedad: {test['escuelascercanas'].nunique()}\")\n",
    "#print(f\"Total tipos de propiedad: {test['centroscomercialescercanos'].nunique()}\")"
   ]
  },
  {
   "cell_type": "code",
   "execution_count": 9,
   "metadata": {},
   "outputs": [],
   "source": [
    "#Dummy Regressor\n",
    "\n",
    "# Tiramos todas las columnas no numéricas para que sklearn nos acepte el dataframe. \n",
    "# Igualmente, el DummyRegressor no va a utilizar ninguna más que el precio \n",
    "#drop_cols = ['fecha', 'ciudad', 'idzona', 'tipodepropiedad', 'provincia', 'titulo', 'descripcion', 'direccion']\n",
    "#X = train.drop(['precio'] + drop_cols, axis=1)\n",
    "#y = train['precio']\n",
    "#X_train, X_test, y_train, y_test = train_test_split(X, y, test_size=0.25, random_state=1)\n",
    "#print(f\"Train shapes: X={X_train.shape} y={y_train.shape}\")\n",
    "#print(f\"Test  shapes: X={X_test.shape}  y={y_test.shape}\")\n",
    "#dummy = DummyRegressor(strategy='mean').fit(X_train, y_train)\n",
    "#pred = dummy.predict(X_test)\n",
    "#predictions = pd.DataFrame(pred)\n",
    "#predictions.columns = ['target']\n",
    "#predictions['id'] = test['id']\n",
    "#predictions.to_csv('dummy.csv',index=False)"
   ]
  },
  {
   "cell_type": "code",
   "execution_count": 10,
   "metadata": {},
   "outputs": [],
   "source": [
    "### Regresion lineal sobre metros totales\n",
    "#x_train = pd.DataFrame(train, columns=['id', 'metrostotales'])\n",
    "#x_train.set_index('id')\n",
    "#y_train = pd.DataFrame(train, columns=['id', 'precio'])\n",
    "#y_train.set_index('id')\n",
    "#x_test = pd.DataFrame(test, columns=['id', 'metrostotales'])\n",
    "#x_test.set_index('id')\n",
    "#Reemplazo null por el promedio\n",
    "#imp = SimpleImputer()\n",
    "#x_train['metrostotales'] = imp.fit_transform(x_train[['metrostotales']])\n",
    "#x_test['metrostotales'] = imp.transform(x_test[['metrostotales']])\n",
    "#x_test.groupby('id')\n",
    "#linear_model = LogisticRegression().fit(x_train, y_train['precio'])\n",
    "#predicciones = pd.DataFrame()\n",
    "#data = linear_model.predict(x_test)\n",
    "#predicciones['id'] = pd.to_numeric(data[0:,0]).round(0)\n",
    "#predicciones['target'] = data[0:,1]\n",
    "#predicciones['id'] = predicciones['id'].astype(int)\n",
    "#predicciones.to_csv('LogisticRegressionOnMtsOutside.csv',index=False)"
   ]
  },
  {
   "cell_type": "code",
   "execution_count": 11,
   "metadata": {},
   "outputs": [],
   "source": [
    "#Algoritmos\n",
    "tree_model = DecisionTreeRegressor()\n",
    "rf_model = RandomForestRegressor(bootstrap=True, criterion='mse', max_depth=None,\n",
    "           max_features='auto', max_leaf_nodes=None,\n",
    "           min_impurity_decrease=0.0, min_impurity_split=None,\n",
    "           min_weight_fraction_leaf=0.0, n_estimators=300, n_jobs=-1,\n",
    "           oob_score=False, random_state=None, verbose=0, warm_start=False)\n",
    "#lasso = Lasso(alpha=1.0, copy_X=True, fit_intercept=False, max_iter=3000,\n",
    "      #normalize=False, positive=True, precompute=False, random_state=None)\n",
    "#elastic_net = ElasticNet()\n",
    "#ridge = Ridge(alpha=10, copy_X=True, fit_intercept=False, max_iter=None)\n",
    "#svr = svm.SVR(kernel='linear',gamma='auto')\n",
    "sgd = linear_model.SGDRegressor(max_iter=3000, loss='epsilon_insensitive')"
   ]
  },
  {
   "cell_type": "code",
   "execution_count": 12,
   "metadata": {},
   "outputs": [],
   "source": [
    "#Transformacion de los datos One-hot encoding\n",
    "y_train = train['precio']\n",
    "x_train = pd.get_dummies(x_train, columns=['tipodepropiedad', 'provincia', 'ciudad'])"
   ]
  },
  {
   "cell_type": "code",
   "execution_count": 13,
   "metadata": {},
   "outputs": [],
   "source": [
    "test = pd.get_dummies(test, columns=['tipodepropiedad','provincia', 'ciudad'])"
   ]
  },
  {
   "cell_type": "code",
   "execution_count": 14,
   "metadata": {},
   "outputs": [],
   "source": [
    "a = test.columns.intersection(x_train.columns)\n",
    "test = test[a]"
   ]
  },
  {
   "cell_type": "code",
   "execution_count": 15,
   "metadata": {},
   "outputs": [],
   "source": [
    "x_train = x_train[a]"
   ]
  },
  {
   "cell_type": "code",
   "execution_count": 16,
   "metadata": {},
   "outputs": [],
   "source": [
    "#Aplico Random Forest\n",
    "#rf_model.fit(x_train, train['precio'])"
   ]
  },
  {
   "cell_type": "code",
   "execution_count": 17,
   "metadata": {},
   "outputs": [],
   "source": [
    "#test.columns.unique()\n",
    "#tree_pred = rf_model.predict(test)\n",
    "#predicciones = pd.DataFrame()\n",
    "\n",
    "#predicciones['target'] = tree_pred\n",
    "#predicciones['id']=test['id']\n",
    "#predicciones.to_csv('RandomForestWithOneHotTodos300Regressor.csv', index=False)"
   ]
  },
  {
   "cell_type": "code",
   "execution_count": 18,
   "metadata": {},
   "outputs": [],
   "source": [
    "# Algoritmo Decision Tree\n",
    "\n",
    "#tree = DecisionTreeRegressor().fit(x_train, y_train)\n",
    "#tree_pred = tree.predict(test)\n",
    "#predicciones = pd.DataFrame()\n",
    "#predicciones['target'] = tree_pred\n",
    "#predicciones['id']=test['id']\n",
    "#predicciones.to_csv('DecisionTreeRegressor.csv',index=False)"
   ]
  },
  {
   "cell_type": "code",
   "execution_count": 19,
   "metadata": {},
   "outputs": [],
   "source": [
    "# Algoritmo Lasso o Elastic Net\n",
    "#lasso.fit(x_train, y_train)\n",
    "#elastic_net.fit(x_train, y_train)"
   ]
  },
  {
   "cell_type": "code",
   "execution_count": 20,
   "metadata": {},
   "outputs": [],
   "source": [
    "#tree_pred = lasso.predict(test)\n",
    "#tree_pred = elastic_net.predict(test)\n",
    "#predicciones = pd.DataFrame()\n",
    "#tree_pred\n",
    "#predicciones['target'] = tree_pred\n",
    "#predicciones['id']=test['id']\n",
    "#predicciones.to_csv('Lasso3000Iter.csv', index=False)"
   ]
  },
  {
   "cell_type": "code",
   "execution_count": 21,
   "metadata": {},
   "outputs": [],
   "source": [
    "#Algoritmo Ridge regressor con testeo\n",
    "#ridge.fit(x_train, train['precio'])\n",
    "#ridge_pred = ridge.predict(test)\n",
    "#predicciones = pd.DataFrame()\n",
    "#predicciones['target'] = ridge_pred\n",
    "#predicciones['id']=test['id']\n",
    "#predicciones.to_csv('RidgeRegressor.csv',index=False)"
   ]
  },
  {
   "cell_type": "code",
   "execution_count": 22,
   "metadata": {},
   "outputs": [],
   "source": [
    "#poly = PolynomialFeatures(degree=3)\n",
    "#X_poly = poly.fit_transform(x_train)\n",
    "#X_train, X_test, y_train, y_test = train_test_split(\n",
    "#    x_train, train['precio'], test_size=0.3, random_state=0)\n",
    "\n",
    "#for a in [0, 1, 10, 100, 1000]: #, 10, 100, 1000]:\n",
    "#    lrRg = Ridge(alpha=a)\n",
    "#    lrRg.fit(X_train, y_train)\n",
    "\n",
    "#    y_train_pred = lrRg.predict(X_train)\n",
    "#    y_test_pred = lrRg.predict(X_test)\n",
    "\n",
    "#    print('\\n[Alpha = %d]' % a )\n",
    "#    print('MSE train: %.2f, test: %.2f' % (mean_squared_error(y_train, y_train_pred), mean_squared_error(y_test, y_test_pred)))"
   ]
  },
  {
   "cell_type": "code",
   "execution_count": 23,
   "metadata": {},
   "outputs": [],
   "source": [
    "#Algoritmo SVR (dado de baja por tardar mas de 10hs sin concluir)\n",
    "#svr.fit(x_train, train['precio'])\n",
    "#svr.predict(test)"
   ]
  },
  {
   "cell_type": "code",
   "execution_count": 24,
   "metadata": {},
   "outputs": [],
   "source": [
    "#Algoritmo SGDRegressor\n",
    "#sgd.fit(x_train, train['precio'])\n",
    "#sgd_pred = sgd.predict(test)\n",
    "#sgd_pred"
   ]
  },
  {
   "cell_type": "code",
   "execution_count": 25,
   "metadata": {},
   "outputs": [],
   "source": [
    "#predicciones = pd.DataFrame()\n",
    "#predicciones['target'] = sgd_pred\n",
    "#predicciones['id']=test['id']\n",
    "#predicciones.to_csv('SGDRegressorLastTry.csv',index=False)"
   ]
  },
  {
   "cell_type": "code",
   "execution_count": 26,
   "metadata": {},
   "outputs": [],
   "source": [
    "#train['precio']"
   ]
  },
  {
   "cell_type": "code",
   "execution_count": 27,
   "metadata": {},
   "outputs": [],
   "source": [
    "#X_train, X_test, y_train, y_test = train_test_split(\n",
    " #   x_train, train['precio'], test_size=0.3, random_state=0)\n",
    "\n",
    "#for a in [1000, 10000, 100000]: #, 10, 100, 1000]:\n",
    " #   sgdReg = linear_model.SGDRegressor(alpha = a, max_iter=1000, tol=1e-3, loss='epsilon_insensitive')\n",
    "  #  sgdReg.fit(X_train, y_train)\n",
    "\n",
    "  #  y_train_pred = sgdReg.predict(X_train)\n",
    "   # y_test_pred = sgdReg.predict(X_test)\n",
    "\n",
    "    #print('\\n[Alpha = %d]' % a )\n",
    "    #print('MSE train: %.2f, test: %.2f' % (mean_squared_error(y_train, y_train_pred), mean_squared_error(y_test, y_test_pred)))"
   ]
  },
  {
   "cell_type": "markdown",
   "metadata": {},
   "source": []
  },
  {
   "cell_type": "code",
   "execution_count": 28,
   "metadata": {},
   "outputs": [],
   "source": [
    "#Algoritmo XGBBoost\n",
    "\n",
    "#for f in x_train.columns:\n",
    " #   if x_train[f].dtype == 'object':\n",
    "  #      label = LabelEncoder()\n",
    "   #     label.fit(list(x_train[f].values))\n",
    "    #    x_train[f] = label.transform(list(x_train[f].values))\n",
    "        #test[f] = label.transform(list(x_train[f].values))"
   ]
  },
  {
   "cell_type": "code",
   "execution_count": 29,
   "metadata": {},
   "outputs": [],
   "source": [
    "#for f in test.columns:\n",
    " #   if test[f].dtype == 'object':\n",
    "  #      label = LabelEncoder()\n",
    "   #     label.fit(list(test[f].values))\n",
    "    #    test[f] = label.transform(list(test[f].values))"
   ]
  },
  {
   "cell_type": "code",
   "execution_count": 30,
   "metadata": {},
   "outputs": [],
   "source": [
    "#model = xgb.XGBRegressor(base_score=0.5, booster='gbtree', colsample_bylevel=1,\n",
    "#             colsample_bynode=1, colsample_bytree=1, gamma=0,\n",
    "#             importance_type='gain', learning_rate=0.1, max_delta_step=0,\n",
    "#             max_depth=2,min_child_weight=1, missing=None, n_estimators=10000,\n",
    "#             n_jobs=-1, nthread=None, random_state=0,\n",
    "#             reg_alpha=0, reg_lambda=1, scale_pos_weight=1, seed=None,\n",
    "#             silent=None, subsample=1, verbosity=1)\n",
    "#model.fit(x_train,train['precio'])"
   ]
  },
  {
   "cell_type": "code",
   "execution_count": 31,
   "metadata": {},
   "outputs": [],
   "source": [
    "#xgb_pred = model.predict(test)\n",
    "#predicciones = pd.DataFrame()\n",
    "#xgb_pred\n",
    "#predicciones['target'] = xgb_pred\n",
    "#predicciones['id'] = test['id']\n",
    "#predicciones.to_csv('XGBBoost.csv', index=False)"
   ]
  },
  {
   "cell_type": "code",
   "execution_count": 32,
   "metadata": {},
   "outputs": [
    {
     "data": {
      "text/plain": [
       "RandomForestRegressor(bootstrap=True, criterion='mse', max_depth=None,\n",
       "                      max_features='auto', max_leaf_nodes=None,\n",
       "                      min_impurity_decrease=0.0, min_impurity_split=None,\n",
       "                      min_samples_leaf=1, min_samples_split=2,\n",
       "                      min_weight_fraction_leaf=0.0, n_estimators=300, n_jobs=-1,\n",
       "                      oob_score=False, random_state=None, verbose=0,\n",
       "                      warm_start=False)"
      ]
     },
     "execution_count": 32,
     "metadata": {},
     "output_type": "execute_result"
    }
   ],
   "source": [
    "#Aplico Random Forest\n",
    "rf_model.fit(x_train, train['precio'])"
   ]
  },
  {
   "cell_type": "code",
   "execution_count": 35,
   "metadata": {},
   "outputs": [],
   "source": [
    "tree_pred = rf_model.predict(test)\n",
    "predicciones = pd.DataFrame()\n",
    "\n",
    "predicciones['target'] = tree_pred\n",
    "predicciones['id']=test['id']\n",
    "predicciones.to_csv('RandomForest300Regressor.csv', index=False)"
   ]
  },
  {
   "cell_type": "code",
   "execution_count": 34,
   "metadata": {},
   "outputs": [],
   "source": [
    "#Análisis de resultados\n",
    "#alg = ['LinearMtsInside',\n",
    "# 'LinearMtsOutside',\n",
    "# 'DecissionTree',\n",
    "# 'RandomForest100Trees',\n",
    "# 'RandomForest300Trees',\n",
    "# 'RandomForestProvinceHotEncoding100Trees',\n",
    "# 'RandomForestAllHotEncoding100Trees',\n",
    "# 'RandomForestAllHotEncoding200Trees',\n",
    "# 'Lasso3kIters',\n",
    "# 'ElasticNet1kIters',\n",
    "# 'Ridge',\n",
    "# 'SGD',\n",
    "# 'RandomForestOtherParams',\n",
    "# 'SGDBetter',\n",
    "# 'RandomForestAllHotEncoding300Trees',\n",
    "# 'XGB Boost',\n",
    "# 'RandomForestAllLabelEncoding300Trees']\n",
    "#value = [1191313,\n",
    "# 1372762,\n",
    "# 1275505,\n",
    "# 954552,\n",
    "# 951180,\n",
    "# 891231,\n",
    "# 657990,\n",
    "# 657451,\n",
    "# 956340,\n",
    "# 1033779,\n",
    "# 1076081,\n",
    "# 1915092,\n",
    " #1252704,\n",
    " #1100974,\n",
    " #656154,\n",
    " #898952,\n",
    " #830720]\n",
    "#plt.plot(alg, value)\n",
    "#plt.xticks(rotation='vertical')"
   ]
  }
 ],
 "metadata": {
  "kernelspec": {
   "display_name": "Python 3",
   "language": "python",
   "name": "python3"
  },
  "language_info": {
   "codemirror_mode": {
    "name": "ipython",
    "version": 3
   },
   "file_extension": ".py",
   "mimetype": "text/x-python",
   "name": "python",
   "nbconvert_exporter": "python",
   "pygments_lexer": "ipython3",
   "version": "3.6.8"
  }
 },
 "nbformat": 4,
 "nbformat_minor": 2
}
